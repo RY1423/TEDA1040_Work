{
 "cells": [
  {
   "cell_type": "code",
   "execution_count": 5,
   "id": "fc32744f-2994-436d-8765-53d94f01d74c",
   "metadata": {},
   "outputs": [],
   "source": [
    "import pandas as pd\n",
    "import requests\n",
    "from bs4 import BeautifulSoup"
   ]
  },
  {
   "cell_type": "code",
   "execution_count": 7,
   "id": "81c73fa3-388c-46a0-885a-ba10ade2f57b",
   "metadata": {},
   "outputs": [],
   "source": [
    "response = requests.get('https://btech-data-analytics.github.io/bridgerland-technical-college/employees_3.html').text"
   ]
  },
  {
   "cell_type": "code",
   "execution_count": 8,
   "id": "f89edc43-fd88-4a64-be5d-99a997f60765",
   "metadata": {},
   "outputs": [],
   "source": [
    "soup = BeautifulSoup(response, 'html.parser')"
   ]
  },
  {
   "cell_type": "code",
   "execution_count": 25,
   "id": "b2a52cc8-a721-474e-9ad2-d486d5f5362f",
   "metadata": {},
   "outputs": [],
   "source": [
    "id = []\n",
    "name = []\n",
    "age = []\n",
    "\n",
    "for employee in soup.find('table').find_all('tr', class_ = 'employee'):\n",
    "    id.append(employee.find_all('td')[0].text)\n",
    "    name.append(employee.find_all('td')[1].text)\n",
    "    age.append(employee.find_all('td')[2].text)"
   ]
  },
  {
   "cell_type": "code",
   "execution_count": 32,
   "id": "de2dbe59-8572-4dfa-93a9-a3eee66ea04b",
   "metadata": {},
   "outputs": [
    {
     "name": "stdout",
     "output_type": "stream",
     "text": [
      "<class 'pandas.core.frame.DataFrame'>\n",
      "RangeIndex: 8 entries, 0 to 7\n",
      "Data columns (total 3 columns):\n",
      " #   Column  Non-Null Count  Dtype \n",
      "---  ------  --------------  ----- \n",
      " 0   id      8 non-null      object\n",
      " 1   name    8 non-null      object\n",
      " 2   age     8 non-null      object\n",
      "dtypes: object(3)\n",
      "memory usage: 324.0+ bytes\n"
     ]
    }
   ],
   "source": [
    "df = pd.DataFrame({\n",
    "    'id': id,\n",
    "    'name': name,\n",
    "    'age': age\n",
    "})    \n",
    "df.info()"
   ]
  },
  {
   "cell_type": "code",
   "execution_count": 41,
   "id": "e21eab47-33e5-41e3-8033-37de3f88c844",
   "metadata": {},
   "outputs": [
    {
     "name": "stdout",
     "output_type": "stream",
     "text": [
      "29.875\n"
     ]
    }
   ],
   "source": [
    "# Question 1: What is the average age of employees found at the link above?\n",
    "df['age'] = df['age'].astype(int)\n",
    "\n",
    "average_age = df['age'].mean()\n",
    "print(average_age)"
   ]
  },
  {
   "cell_type": "code",
   "execution_count": 49,
   "id": "fe679b31-f3a9-474a-8540-2f2729dcc7e4",
   "metadata": {},
   "outputs": [
    {
     "name": "stdout",
     "output_type": "stream",
     "text": [
      "3.56\n"
     ]
    }
   ],
   "source": [
    "#Question 2: What is the standard deviation of employees found at the link above (according to pandas)? Round final answer to two decimal places.\n",
    "std_dev = df['age'].std()\n",
    "std_dev_round = round(std_dev, 2)\n",
    "print(std_dev_round)"
   ]
  }
 ],
 "metadata": {
  "kernelspec": {
   "display_name": "Python 3 (ipykernel)",
   "language": "python",
   "name": "python3"
  },
  "language_info": {
   "codemirror_mode": {
    "name": "ipython",
    "version": 3
   },
   "file_extension": ".py",
   "mimetype": "text/x-python",
   "name": "python",
   "nbconvert_exporter": "python",
   "pygments_lexer": "ipython3",
   "version": "3.13.1"
  }
 },
 "nbformat": 4,
 "nbformat_minor": 5
}
