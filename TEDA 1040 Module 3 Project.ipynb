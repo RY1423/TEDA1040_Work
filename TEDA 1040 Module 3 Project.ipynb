{
 "cells": [
  {
   "cell_type": "code",
   "execution_count": 2,
   "id": "cd2a1481-b1ed-4384-a6c5-435d356e8b2f",
   "metadata": {},
   "outputs": [],
   "source": [
    "import pandas as pd\n",
    "import requests\n",
    "from bs4 import BeautifulSoup"
   ]
  },
  {
   "cell_type": "code",
   "execution_count": 3,
   "id": "48794055-0386-429a-99c5-0afe5a87d173",
   "metadata": {},
   "outputs": [],
   "source": [
    "response = requests.get('https://btech-data-analytics.github.io/bridgerland-technical-college/bookstore.html').text"
   ]
  },
  {
   "cell_type": "code",
   "execution_count": 4,
   "id": "f84d0b16-effc-442a-853e-755442716112",
   "metadata": {},
   "outputs": [],
   "source": [
    "soup = BeautifulSoup(response, 'html.parser')"
   ]
  },
  {
   "cell_type": "code",
   "execution_count": 5,
   "id": "41a9d639-5e92-4c71-ae33-08db902bca5e",
   "metadata": {},
   "outputs": [
    {
     "data": {
      "text/plain": [
       "<html lang=\"en\">\n",
       "<head>\n",
       "<meta charset=\"utf-8\"/>\n",
       "<meta content=\"width=device-width, initial-scale=1.0\" name=\"viewport\"/>\n",
       "<link href=\"https://www.w3schools.com/w3css/4/w3.css\" rel=\"stylesheet\"/>\n",
       "<link href=\"style.css\" rel=\"stylesheet\"/>\n",
       "<title>Bob's Bookstore</title>\n",
       "</head>\n",
       "<body>\n",
       "<div class=\"w3-bar w3-blue-grey w3-large\" style=\"padding: 0rem 8rem 0rem 8rem\">\n",
       "<a href=\"/bridgerland-technical-college/home.html\"><img class=\"\" src=\"bobs_bookstore_white.png\" style=\"max-height: 2.8rem;\"/></a>\n",
       "<a class=\"w3-bar-item w3-button w3-right\" href=\"/bridgerland-technical-college/bookstore.html\">Store</a>\n",
       "<a class=\"w3-bar-item w3-button w3-right\" href=\"/bridgerland-technical-college/contact.html\">Contact</a>\n",
       "<a class=\"w3-bar-item w3-button w3-right\" href=\"/bridgerland-technical-college/about.html\">About</a>\n",
       "</div>\n",
       "<div class=\"w3-container\" style=\"max-width: 1000px;margin: auto;\">\n",
       "<h1>Books for Sale</h1>\n",
       "<table class=\"w3-table-all w3-hoverable w3-small\">\n",
       "<thead>\n",
       "<tr>\n",
       "<th>ISBN</th>\n",
       "<th>Title</th>\n",
       "<th>Author</th>\n",
       "<th>Language</th>\n",
       "<th>Pages</th>\n",
       "<th>Topic</th>\n",
       "<th>Price</th>\n",
       "<th></th>\n",
       "</tr>\n",
       "</thead>\n",
       "<tr class=\"book\">\n",
       "<td>978-1234567890</td>\n",
       "<td>Whiskers of Wisdom: Tales from Feline Philosophers</td>\n",
       "<td>Penelope Wainwright</td>\n",
       "<td>English</td>\n",
       "<td>256</td>\n",
       "<td>Cats</td>\n",
       "<td>$19.99</td>\n",
       "<td><button>Buy now</button></td>\n",
       "</tr>\n",
       "<tr class=\"book\">\n",
       "<td>978-2345678901</td>\n",
       "<td>Purrfectly Pawesome: A Cat's Life</td>\n",
       "<td>Jasper Sterling</td>\n",
       "<td>English</td>\n",
       "<td>192</td>\n",
       "<td>Cats</td>\n",
       "<td>$15.99</td>\n",
       "<td><button>Buy now</button></td>\n",
       "</tr>\n",
       "<tr class=\"book\">\n",
       "<td>978-3456789012</td>\n",
       "<td>Cat Tales: Adventures in Whiskerland</td>\n",
       "<td>Penelope Wainwright</td>\n",
       "<td>English</td>\n",
       "<td>320</td>\n",
       "<td>Cats</td>\n",
       "<td>$21.99</td>\n",
       "<td><button>Buy now</button></td>\n",
       "</tr>\n",
       "<tr class=\"book\">\n",
       "<td>978-4567890123</td>\n",
       "<td>The Enigmatic Paws: Mysteries of Meowville</td>\n",
       "<td>Maximilian Thorne</td>\n",
       "<td>English</td>\n",
       "<td>288</td>\n",
       "<td>Cats</td>\n",
       "<td>$17.99</td>\n",
       "<td><button>Buy now</button></td>\n",
       "</tr>\n",
       "<tr class=\"book\">\n",
       "<td>978-5678901234</td>\n",
       "<td>Cats in Wonderland</td>\n",
       "<td>Isadora Harrington</td>\n",
       "<td>English</td>\n",
       "<td>224</td>\n",
       "<td>Cats</td>\n",
       "<td>$16.99</td>\n",
       "<td><button>Buy now</button></td>\n",
       "</tr>\n",
       "<tr class=\"book\">\n",
       "<td>978-6789012345</td>\n",
       "<td>Whisker Wisdom: Life Lessons from Feline Sages</td>\n",
       "<td>Penelope Wainwright</td>\n",
       "<td>English</td>\n",
       "<td>288</td>\n",
       "<td>Cats</td>\n",
       "<td>$20.99</td>\n",
       "<td><button>Buy now</button></td>\n",
       "</tr>\n",
       "<tr class=\"book\">\n",
       "<td>978-7890123456</td>\n",
       "<td>Catnip Chronicles: A Purrfect Journey</td>\n",
       "<td>Jasper Sterling</td>\n",
       "<td>English</td>\n",
       "<td>192</td>\n",
       "<td>Cats</td>\n",
       "<td>$14.99</td>\n",
       "<td><button>Buy now</button></td>\n",
       "</tr>\n",
       "<tr class=\"book\">\n",
       "<td>978-8901234567</td>\n",
       "<td>Cat-astrophe: Tales of Misadventures</td>\n",
       "<td>Celeste Nightshade</td>\n",
       "<td>English</td>\n",
       "<td>240</td>\n",
       "<td>Cats</td>\n",
       "<td>$18.99</td>\n",
       "<td><button>Buy now</button></td>\n",
       "</tr>\n",
       "<tr class=\"book\">\n",
       "<td>978-9012345678</td>\n",
       "<td>The Cat's Whisker: A Feline Fantasy</td>\n",
       "<td>Penelope Wainwright</td>\n",
       "<td>English</td>\n",
       "<td>208</td>\n",
       "<td>Cats</td>\n",
       "<td>$16.99</td>\n",
       "<td><button>Buy now</button></td>\n",
       "</tr>\n",
       "<tr class=\"book\">\n",
       "<td>978-0123456789</td>\n",
       "<td>Fur and Friendship: Stories of Feline Companions</td>\n",
       "<td>Seraphina Montague</td>\n",
       "<td>English</td>\n",
       "<td>176</td>\n",
       "<td>Cats</td>\n",
       "<td>$12.99</td>\n",
       "<td><button>Buy now</button></td>\n",
       "</tr>\n",
       "<tr class=\"book\">\n",
       "<td>978-1234567890</td>\n",
       "<td>Tails of Loyalty: Canine Chronicles</td>\n",
       "<td>Benjamin Barkley</td>\n",
       "<td>English</td>\n",
       "<td>256</td>\n",
       "<td>Dogs</td>\n",
       "<td>$29.99</td>\n",
       "<td><button>Buy now</button></td>\n",
       "</tr>\n",
       "<tr class=\"book\">\n",
       "<td>978-2345678901</td>\n",
       "<td>Pawsitive Adventures: A Dog's Journey</td>\n",
       "<td>Sophie Shepherd</td>\n",
       "<td>English</td>\n",
       "<td>192</td>\n",
       "<td>Dogs</td>\n",
       "<td>$25.99</td>\n",
       "<td><button>Buy now</button></td>\n",
       "</tr>\n",
       "<tr class=\"book\">\n",
       "<td>978-3456789012</td>\n",
       "<td>Barking Wisdom: Lessons from Wise Canines</td>\n",
       "<td>Oliver Obedience</td>\n",
       "<td>English</td>\n",
       "<td>320</td>\n",
       "<td>Dogs</td>\n",
       "<td>$21.99</td>\n",
       "<td><button>Buy now</button></td>\n",
       "</tr>\n",
       "<tr class=\"book\">\n",
       "<td>978-4567890123</td>\n",
       "<td>Dogged Determination: Stories of Resilient Pooches</td>\n",
       "<td>Ruby Ruffington</td>\n",
       "<td>English</td>\n",
       "<td>288</td>\n",
       "<td>Dogs</td>\n",
       "<td>$27.99</td>\n",
       "<td><button>Buy now</button></td>\n",
       "</tr>\n",
       "<tr class=\"book\">\n",
       "<td>978-5678901234</td>\n",
       "<td>The Bark Brigade: Canine Heroes Among Us</td>\n",
       "<td>Benjamin Barkley</td>\n",
       "<td>English</td>\n",
       "<td>224</td>\n",
       "<td>Dogs</td>\n",
       "<td>$26.99</td>\n",
       "<td><button>Buy now</button></td>\n",
       "</tr>\n",
       "</table>\n",
       "</div>\n",
       "<footer class=\"page-footer\">\n",
       "<div class=\"footer-content\">\n",
       "<p>© 2023 Bob's Bookstore</p>\n",
       "<ul class=\"social-icons\">\n",
       "<li><a href=\"#\"><img alt=\"Facebook\" src=\"facebook.png\"/></a></li>\n",
       "<li><a href=\"#\"><img alt=\"Twitter\" src=\"twitter.png\"/></a></li>\n",
       "<li><a href=\"#\"><img alt=\"Instagram\" src=\"instagram.png\"/></a></li>\n",
       "</ul>\n",
       "</div>\n",
       "</footer>\n",
       "</body>\n",
       "</html>"
      ]
     },
     "execution_count": 5,
     "metadata": {},
     "output_type": "execute_result"
    }
   ],
   "source": [
    "soup"
   ]
  },
  {
   "cell_type": "code",
   "execution_count": 6,
   "id": "998c92b9-1e49-4f89-aec8-27b54fac2312",
   "metadata": {},
   "outputs": [],
   "source": [
    "isbn = []\n",
    "title = []\n",
    "author = []\n",
    "language = []\n",
    "pages = []\n",
    "topic = []\n",
    "price = []\n",
    "\n",
    "for book in soup.find('table').find_all('tr', class_='book'):\n",
    "  isbn.append(book.find_all('td')[0].text)\n",
    "  title.append(book.find_all('td')[1].text)\n",
    "  author.append(book.find_all('td')[2].text)\n",
    "  language.append(book.find_all('td')[3].text)\n",
    "  pages.append(book.find_all('td')[4].text)\n",
    "  topic.append(book.find_all('td')[5].text)\n",
    "  price.append(book.find_all('td')[6].text)\n"
   ]
  },
  {
   "cell_type": "code",
   "execution_count": 7,
   "id": "143b6096-5365-4943-aa96-927d4b096156",
   "metadata": {},
   "outputs": [
    {
     "name": "stdout",
     "output_type": "stream",
     "text": [
      "<class 'pandas.core.frame.DataFrame'>\n",
      "RangeIndex: 15 entries, 0 to 14\n",
      "Data columns (total 7 columns):\n",
      " #   Column    Non-Null Count  Dtype \n",
      "---  ------    --------------  ----- \n",
      " 0   isbn      15 non-null     object\n",
      " 1   title     15 non-null     object\n",
      " 2   author    15 non-null     object\n",
      " 3   language  15 non-null     object\n",
      " 4   pages     15 non-null     object\n",
      " 5   topic     15 non-null     object\n",
      " 6   price     15 non-null     object\n",
      "dtypes: object(7)\n",
      "memory usage: 972.0+ bytes\n"
     ]
    }
   ],
   "source": [
    "df = pd.DataFrame({\n",
    "    'isbn': id,\n",
    "    'title': title,\n",
    "    'author': author,\n",
    "    'language': language,\n",
    "    'pages': pages,\n",
    "    'topic': topic,\n",
    "    'price': price\n",
    "})    \n",
    "df.info()"
   ]
  },
  {
   "cell_type": "code",
   "execution_count": 8,
   "id": "51fb797c-d96f-4b43-b321-4c3749a175f3",
   "metadata": {},
   "outputs": [
    {
     "data": {
      "text/plain": [
       "author\n",
       "Penelope Wainwright    4\n",
       "Jasper Sterling        2\n",
       "Benjamin Barkley       2\n",
       "Maximilian Thorne      1\n",
       "Celeste Nightshade     1\n",
       "Isadora Harrington     1\n",
       "Seraphina Montague     1\n",
       "Sophie Shepherd        1\n",
       "Oliver Obedience       1\n",
       "Ruby Ruffington        1\n",
       "Name: count, dtype: int64"
      ]
     },
     "execution_count": 8,
     "metadata": {},
     "output_type": "execute_result"
    }
   ],
   "source": [
    "# Question 1: Which author has the most books listed at Bob's Bookstore?\n",
    "\n",
    "df['author'].value_counts()"
   ]
  },
  {
   "cell_type": "code",
   "execution_count": 11,
   "id": "51c21984-1f16-4452-8c0b-0f146d80bd8e",
   "metadata": {},
   "outputs": [
    {
     "data": {
      "text/plain": [
       "topic\n",
       "Cats    10\n",
       "Dogs     5\n",
       "Name: count, dtype: int64"
      ]
     },
     "execution_count": 11,
     "metadata": {},
     "output_type": "execute_result"
    }
   ],
   "source": [
    "# Question 2: Which is the most popular topic among books at Bob's Bookstore (which topic occurs most frequently)?\n",
    "\n",
    "df['topic'].value_counts()\n"
   ]
  },
  {
   "cell_type": "code",
   "execution_count": 33,
   "id": "0f06ed1f-4b87-4f36-bbdb-74d86c278d0b",
   "metadata": {},
   "outputs": [
    {
     "name": "stdout",
     "output_type": "stream",
     "text": [
      "Dogs\n"
     ]
    }
   ],
   "source": [
    "# Question 3: Which topic of books is the most expensive, on average?\n",
    "\n",
    "df['price'] = df['price'].replace({r'$': ''})\n",
    "\n",
    "df['price'] = df['price'].astype(int)\n",
    "\n",
    "average_price_by_topic = df.groupby('topic')['price'].mean()\n",
    "\n",
    "most_expensive_topic = average_price_by_topic.idxmax()\n",
    "\n",
    "print(most_expensive_topic)"
   ]
  },
  {
   "cell_type": "code",
   "execution_count": 35,
   "id": "72b828e2-f170-413b-b7ea-65b18a7489d5",
   "metadata": {},
   "outputs": [
    {
     "name": "stdout",
     "output_type": "stream",
     "text": [
      "Dogs\n"
     ]
    }
   ],
   "source": [
    "# Question 4: Which topic of book has the most pages, on average?\n",
    "\n",
    "df['pages'] = df['pages'].astype(int)\n",
    "\n",
    "average_quantity_of_pages = df.groupby('topic')['pages'].mean()\n",
    "\n",
    "most_pages = average_quantity_of_pages.idxmax()\n",
    "\n",
    "print(most_pages)\n"
   ]
  }
 ],
 "metadata": {
  "kernelspec": {
   "display_name": "Python 3 (ipykernel)",
   "language": "python",
   "name": "python3"
  },
  "language_info": {
   "codemirror_mode": {
    "name": "ipython",
    "version": 3
   },
   "file_extension": ".py",
   "mimetype": "text/x-python",
   "name": "python",
   "nbconvert_exporter": "python",
   "pygments_lexer": "ipython3",
   "version": "3.13.1"
  }
 },
 "nbformat": 4,
 "nbformat_minor": 5
}
