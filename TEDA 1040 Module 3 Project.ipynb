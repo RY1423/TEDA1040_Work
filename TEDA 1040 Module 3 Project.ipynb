{
 "cells": [
  {
   "cell_type": "code",
   "execution_count": 1,
   "id": "cd2a1481-b1ed-4384-a6c5-435d356e8b2f",
   "metadata": {},
   "outputs": [],
   "source": [
    "import pandas as pd\n",
    "import requests\n",
    "from bs4 import BeautifulSoup"
   ]
  },
  {
   "cell_type": "code",
   "execution_count": 2,
   "id": "48794055-0386-429a-99c5-0afe5a87d173",
   "metadata": {},
   "outputs": [],
   "source": [
    "response = requests.get('https://btech-data-analytics.github.io/bridgerland-technical-college/home.html').text"
   ]
  },
  {
   "cell_type": "code",
   "execution_count": 3,
   "id": "f84d0b16-effc-442a-853e-755442716112",
   "metadata": {},
   "outputs": [],
   "source": [
    "soup = BeautifulSoup(response, 'html.parser')"
   ]
  },
  {
   "cell_type": "code",
   "execution_count": 4,
   "id": "41a9d639-5e92-4c71-ae33-08db902bca5e",
   "metadata": {},
   "outputs": [
    {
     "data": {
      "text/plain": [
       "<html lang=\"en\">\n",
       "<head>\n",
       "<meta charset=\"utf-8\"/>\n",
       "<meta content=\"width=device-width, initial-scale=1.0\" name=\"viewport\"/>\n",
       "<link href=\"https://www.w3schools.com/w3css/4/w3.css\" rel=\"stylesheet\"/>\n",
       "<link href=\"style.css\" rel=\"stylesheet\"/>\n",
       "<title>Bob's Bookstore</title>\n",
       "</head>\n",
       "<body>\n",
       "<div class=\"w3-bar w3-blue-grey w3-large\" style=\"padding: 0rem 8rem 0rem 8rem\">\n",
       "<a href=\"/bridgerland-technical-college/home.html\"><img class=\"\" src=\"bobs_bookstore_white.png\" style=\"max-height: 2.8rem;\"/></a>\n",
       "<a class=\"w3-bar-item w3-button w3-right\" href=\"/bridgerland-technical-college/bookstore.html\">Store</a>\n",
       "<a class=\"w3-bar-item w3-button w3-right\" href=\"/bridgerland-technical-college/contact.html\">Contact</a>\n",
       "<a class=\"w3-bar-item w3-button w3-right\" href=\"/bridgerland-technical-college/about.html\">About</a>\n",
       "</div>\n",
       "<div class=\"w3-container\">\n",
       "<h1>Welcome to Bob's Bookstore</h1>\n",
       "<p>Discover a world of literature at Bob's Bookstore. We offer a wide range of books to suit every reader's taste.</p>\n",
       "</div>\n",
       "<div class=\"w3-container\" style=\"max-width: 1200px;margin: auto;\">\n",
       "<h2>Featured Books</h2>\n",
       "<div class=\"w3-row-padding\">\n",
       "<div class=\"w3-col s12 m6 l4\">\n",
       "<div class=\"w3-card-4\">\n",
       "<img src=\"https://cdn2.thecatapi.com/images/4nn.jpg\" style=\"width:100%;height:12rem\"/>\n",
       "<div class=\"w3-container\">\n",
       "<h3>Whiskers of Wisdom: Tales from Feline Philosophers</h3>\n",
       "<p>Penelope Wainwright</p>\n",
       "</div>\n",
       "</div>\n",
       "</div>\n",
       "<div class=\"w3-col s12 m6 l4\">\n",
       "<div class=\"w3-card-4\">\n",
       "<img src=\"https://cdn2.thecatapi.com/images/59d.jpg\" style=\"width:100%;height:12rem\"/>\n",
       "<div class=\"w3-container\">\n",
       "<h3>Paws and Prejudice: A Kitty Love Story</h3>\n",
       "<p>Jasper Sterling</p>\n",
       "</div>\n",
       "</div>\n",
       "</div>\n",
       "<div class=\"w3-col s12 m6 l4\">\n",
       "<div class=\"w3-card-4\">\n",
       "<img src=\"https://cdn2.thecatapi.com/images/ccf.jpg\" style=\"width:100%;height:12rem\"/>\n",
       "<div class=\"w3-container\">\n",
       "<h3>The Cat Detective Chronicles: Claws of Mystery</h3>\n",
       "<p>Seraphina Montague</p>\n",
       "</div>\n",
       "</div>\n",
       "</div>\n",
       "</div>\n",
       "<div class=\"w3-row-padding\" style=\"margin-top: 3rem;\">\n",
       "<div class=\"w3-col s12 m6 l4\">\n",
       "<div class=\"w3-card-4\">\n",
       "<img src=\"https://cdn2.thecatapi.com/images/a3o.jpg\" style=\"width:100%;height:12rem\"/>\n",
       "<div class=\"w3-container\">\n",
       "<h3>Meowtopia: A Journey to the Land of Talking Cats</h3>\n",
       "<p>Maximilian Thorne</p>\n",
       "</div>\n",
       "</div>\n",
       "</div>\n",
       "<div class=\"w3-col s12 m6 l4\">\n",
       "<div class=\"w3-card-4\">\n",
       "<img src=\"https://cdn2.thecatapi.com/images/8mf.jpg\" style=\"width:100%;height:12rem\"/>\n",
       "<div class=\"w3-container\">\n",
       "<h3>The Secret Lives of Cat Adventurer</h3>\n",
       "<p>Isadora Harrington</p>\n",
       "</div>\n",
       "</div>\n",
       "</div>\n",
       "<div class=\"w3-col s12 m6 l4\">\n",
       "<div class=\"w3-card-4\">\n",
       "<img src=\"https://cdn2.thecatapi.com/images/5hs.jpg\" style=\"width:100%;height:12rem\"/>\n",
       "<div class=\"w3-container\">\n",
       "<h3>Tales of Tail-Twitching Tabbies in Tanzania</h3>\n",
       "<p>Ignatius Blackwood</p>\n",
       "</div>\n",
       "</div>\n",
       "</div>\n",
       "</div>\n",
       "<div class=\"w3-row-padding\" style=\"margin-top: 3rem;\">\n",
       "<div class=\"w3-col s12 m6 l4\">\n",
       "<div class=\"w3-card-4\">\n",
       "<img src=\"https://cdn2.thecatapi.com/images/41Fe8q9vU.jpg\" style=\"width:100%;height:12rem\"/>\n",
       "<div class=\"w3-container\">\n",
       "<h3>Feline Fantasy: Adventures in the Whisker-Wild</h3>\n",
       "<p>Celeste Nightshade</p>\n",
       "</div>\n",
       "</div>\n",
       "</div>\n",
       "<div class=\"w3-col s12 m6 l4\">\n",
       "<div class=\"w3-card-4\">\n",
       "<img src=\"https://cdn2.thecatapi.com/images/bbi.jpg\" style=\"width:100%;height:12rem\"/>\n",
       "<div class=\"w3-container\">\n",
       "<h3>Catnap Chronicles: Dreams of the Purring Realm</h3>\n",
       "<p>Seraphina Montague</p>\n",
       "</div>\n",
       "</div>\n",
       "</div>\n",
       "<div class=\"w3-col s12 m6 l4\">\n",
       "<div class=\"w3-card-4\">\n",
       "<img src=\"https://cdn2.thecatapi.com/images/cqk.jpg\" style=\"width:100%;height:12rem\"/>\n",
       "<div class=\"w3-container\">\n",
       "<h3>The Whisker Whisperer's Guide to Cat Communication</h3>\n",
       "<p>Atticus Hawthorne</p>\n",
       "</div>\n",
       "</div>\n",
       "</div>\n",
       "</div>\n",
       "</div>\n",
       "<footer class=\"page-footer\">\n",
       "<div class=\"footer-content\">\n",
       "<p>© 2023 Bob's Bookstore</p>\n",
       "<ul class=\"social-icons\">\n",
       "<li><a href=\"#\"><img alt=\"Facebook\" src=\"facebook.png\"/></a></li>\n",
       "<li><a href=\"#\"><img alt=\"Twitter\" src=\"twitter.png\"/></a></li>\n",
       "<li><a href=\"#\"><img alt=\"Instagram\" src=\"instagram.png\"/></a></li>\n",
       "</ul>\n",
       "</div>\n",
       "</footer>\n",
       "</body>\n",
       "</html>"
      ]
     },
     "execution_count": 4,
     "metadata": {},
     "output_type": "execute_result"
    }
   ],
   "source": [
    "soup"
   ]
  },
  {
   "cell_type": "code",
   "execution_count": 5,
   "id": "998c92b9-1e49-4f89-aec8-27b54fac2312",
   "metadata": {},
   "outputs": [
    {
     "ename": "AttributeError",
     "evalue": "'NoneType' object has no attribute 'find_all'",
     "output_type": "error",
     "traceback": [
      "\u001b[1;31m---------------------------------------------------------------------------\u001b[0m",
      "\u001b[1;31mAttributeError\u001b[0m                            Traceback (most recent call last)",
      "Cell \u001b[1;32mIn[5], line 9\u001b[0m\n\u001b[0;32m      6\u001b[0m topic \u001b[38;5;241m=\u001b[39m []\n\u001b[0;32m      7\u001b[0m price \u001b[38;5;241m=\u001b[39m []\n\u001b[1;32m----> 9\u001b[0m \u001b[38;5;28;01mfor\u001b[39;00m book \u001b[38;5;129;01min\u001b[39;00m \u001b[43msoup\u001b[49m\u001b[38;5;241;43m.\u001b[39;49m\u001b[43mfind\u001b[49m\u001b[43m(\u001b[49m\u001b[38;5;124;43m'\u001b[39;49m\u001b[38;5;124;43mtable\u001b[39;49m\u001b[38;5;124;43m'\u001b[39;49m\u001b[43m)\u001b[49m\u001b[38;5;241;43m.\u001b[39;49m\u001b[43mfind_all\u001b[49m(\u001b[38;5;124m'\u001b[39m\u001b[38;5;124mtr\u001b[39m\u001b[38;5;124m'\u001b[39m, class_\u001b[38;5;241m=\u001b[39m\u001b[38;5;124m'\u001b[39m\u001b[38;5;124mbook\u001b[39m\u001b[38;5;124m'\u001b[39m):\n\u001b[0;32m     10\u001b[0m   isbn\u001b[38;5;241m.\u001b[39mappend(book\u001b[38;5;241m.\u001b[39mfind_all(\u001b[38;5;124m'\u001b[39m\u001b[38;5;124mtd\u001b[39m\u001b[38;5;124m'\u001b[39m)[\u001b[38;5;241m0\u001b[39m]\u001b[38;5;241m.\u001b[39mtext)\n\u001b[0;32m     11\u001b[0m   title\u001b[38;5;241m.\u001b[39mappend(book\u001b[38;5;241m.\u001b[39mfind_all(\u001b[38;5;124m'\u001b[39m\u001b[38;5;124mtd\u001b[39m\u001b[38;5;124m'\u001b[39m)[\u001b[38;5;241m1\u001b[39m]\u001b[38;5;241m.\u001b[39mtext)\n",
      "\u001b[1;31mAttributeError\u001b[0m: 'NoneType' object has no attribute 'find_all'"
     ]
    }
   ],
   "source": [
    "sbn = []\n",
    "title = []\n",
    "author = []\n",
    "language = []\n",
    "pages = []\n",
    "topic = []\n",
    "price = []\n",
    "\n",
    "for book in soup.find('table').find_all('tr', class_='book'):\n",
    "  isbn.append(book.find_all('td')[0].text)\n",
    "  title.append(book.find_all('td')[1].text)\n",
    "  author.append(book.find_all('td')[2].text)\n",
    "  language.append(book.find_all('td')[3].text)\n",
    "  pages.append(book.find_all('td')[4].text)\n",
    "  topic.append(book.find_all('td')[5].text)\n",
    "  price.append(book.find_all('td')[6].text)\n"
   ]
  },
  {
   "cell_type": "code",
   "execution_count": 76,
   "id": "720a7498-d93f-4194-9549-acb9b913c8d7",
   "metadata": {},
   "outputs": [
    {
     "name": "stdout",
     "output_type": "stream",
     "text": [
      "Table not found!\n"
     ]
    }
   ],
   "source": [
    "table = soup.find('table')\n",
    "if table:\n",
    "    for book in table.find_all('tr', class_='book'):\n",
    "        author.append(book.find_all('td')[0].text)\n",
    "        title.append(book.find_all('td')[1].text)\n",
    "        price.append(book.find_all('td')[2].text)\n",
    "        pages.append(book.find_all('td')[3].text)\n",
    "else:\n",
    "    print(\"Table not found!\")\n"
   ]
  }
 ],
 "metadata": {
  "kernelspec": {
   "display_name": "Python 3 (ipykernel)",
   "language": "python",
   "name": "python3"
  },
  "language_info": {
   "codemirror_mode": {
    "name": "ipython",
    "version": 3
   },
   "file_extension": ".py",
   "mimetype": "text/x-python",
   "name": "python",
   "nbconvert_exporter": "python",
   "pygments_lexer": "ipython3",
   "version": "3.13.1"
  }
 },
 "nbformat": 4,
 "nbformat_minor": 5
}
